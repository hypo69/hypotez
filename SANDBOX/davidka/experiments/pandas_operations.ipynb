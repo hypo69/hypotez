{
 "cells": [
  {
   "cell_type": "code",
   "execution_count": null,
   "id": "dac35551-3b79-40f9-bffc-357134935b0f",
   "metadata": {},
   "outputs": [],
   "source": [
    "import header\n",
    "from header import __root__\n",
    "from src import gs"
   ]
  },
  {
   "cell_type": "code",
   "execution_count": null,
   "id": "29c53b41-07ea-4a3d-91b6-f97c9a22931c",
   "metadata": {},
   "outputs": [],
   "source": [
    "import pandas as pd\n",
    "import zipfile\n",
    "from pathlib import Path\n",
    "from typing import Optional, List, Dict, Any\n",
    "from types import SimpleNamespace\n",
    "from src.utils.jjson import j_loads, j_loads_ns\n",
    "from src.utils.file import read_text_file, recursively_yield_file_path"
   ]
  },
  {
   "cell_type": "code",
   "execution_count": null,
   "id": "f5370e7d-e021-46e0-ba06-d13c89046fd4",
   "metadata": {},
   "outputs": [],
   "source": [
    "class Config:\n",
    "    \"\"\"Класс конфигурации скрипта.\"\"\"\n",
    "    ENDPOINT: Path = __root__ / 'SANDBOX' / 'davidka'\n",
    "    config: SimpleNamespace = j_loads_ns(ENDPOINT / 'davidka.json')\n",
    "    STORAGE: Path\n",
    "    try:\n",
    "        STORAGE = Path(config.storage)\n",
    "    except Exception as ex:\n",
    "        raise ValueError(f\"Ошибка загрузки пути к хранилищу: \", ex)\n",
    "        \n",
    "    TRAIN_STORAGE:Path = Path(config.train_storage)\n",
    "    UZZIPPED_STORAGE:Path = Path(config.unzipeped_storage)\n",
    "    GEMINI_API_KEY: Optional[str] = gs.credentials.gemini.onela.api_key # Установить имя владельца ключа (onela, kazazrinov, ...)\n",
    "    GEMINI_MODEL_NAME: str = 'gemini-2.0-flash-exp' # Актуальное имя модели может отличаться, например, 'gemini-1.5-flash-latest'\n",
    "    system_instructuction: str | None = read_text_file(ENDPOINT / 'instructions/analize_html.md')\n",
    "    updated_links_file_name: str = 'updated_links.json'\n",
    "    DELAY_AFTER_LINK_PROCESSING: int = 15\n",
    "    WINDOW_MODE: str = 'headless'\n",
    "    \n",
    "    "
   ]
  },
  {
   "cell_type": "code",
   "execution_count": null,
   "id": "d39ae7c3-fa65-46ce-a190-ce502a61de17",
   "metadata": {},
   "outputs": [],
   "source": [
    "\"\"\"\n",
    "with zipfile.ZipFile(\"your_file.zip\", 'r') as zip_ref:\n",
    "    zip_ref.extractall(ENDPOINT / 'extracted_data')  # например, 'data'\n",
    "    \"\"\""
   ]
  },
  {
   "cell_type": "code",
   "execution_count": null,
   "id": "3ce08f45-e24a-43ac-852b-6007ec056a87",
   "metadata": {},
   "outputs": [],
   "source": [
    "#print(train_files)\n",
    "products_dict:dict = {}\n",
    "for file in recursively_yield_file_path(Config.TRAIN_STORAGE,'*.json'):\n",
    "    file_dict = j_loads(file)\n",
    "    products_dict.update(file_dict)\n"
   ]
  },
  {
   "cell_type": "code",
   "execution_count": null,
   "id": "95bb9d3c-0e60-4b7e-b75d-59f3aa1742da",
   "metadata": {},
   "outputs": [],
   "source": [
    "print(len(products_dict))\n"
   ]
  },
  {
   "cell_type": "code",
   "execution_count": null,
   "id": "1b125f4a-3926-48d2-afb0-8b231865f899",
   "metadata": {},
   "outputs": [],
   "source": [
    "df = pd.DataFrame(products_dict)"
   ]
  },
  {
   "cell_type": "code",
   "execution_count": null,
   "id": "1c626ad4-9475-4f73-88ff-6d1e35628ed6",
   "metadata": {},
   "outputs": [],
   "source": [
    "print(df.head(2))"
   ]
  },
  {
   "cell_type": "code",
   "execution_count": null,
   "id": "070d24db-8168-4ab1-a3e0-58af5389e85f",
   "metadata": {},
   "outputs": [],
   "source": [
    "print(df.columns[:5])"
   ]
  },
  {
   "cell_type": "code",
   "execution_count": null,
   "id": "f8d59df7-fbb3-484e-881d-448fcac1ac61",
   "metadata": {},
   "outputs": [],
   "source": [
    "df_transposed = df.T"
   ]
  },
  {
   "cell_type": "code",
   "execution_count": null,
   "id": "be257cbd-cb52-4483-8c0c-4e8c3f8dd44c",
   "metadata": {},
   "outputs": [],
   "source": [
    "print(df_transposed.columns)"
   ]
  },
  {
   "cell_type": "code",
   "execution_count": null,
   "id": "1c7ee9ea-4145-41b5-973c-b87993bd83bf",
   "metadata": {},
   "outputs": [],
   "source": [
    "df_cleaned = df_transposed.dropna(subset=['supplier'])\n"
   ]
  },
  {
   "cell_type": "code",
   "execution_count": null,
   "id": "8594ef52-3a4f-46ca-aba5-b17e97073fd5",
   "metadata": {},
   "outputs": [],
   "source": [
    "supplier_list = df_cleaned['supplier'].dropna().unique()\n",
    "print(supplier_list)"
   ]
  },
  {
   "cell_type": "code",
   "execution_count": null,
   "id": "2f457360-576d-4f46-8422-1a13becdbbcd",
   "metadata": {},
   "outputs": [],
   "source": [
    "supplier_counts = df_clean.groupby('supplier').count().reset_index()"
   ]
  },
  {
   "cell_type": "code",
   "execution_count": null,
   "id": "5ea01d64-865d-46f4-ae8d-635463e20b13",
   "metadata": {},
   "outputs": [],
   "source": [
    "print(supplier_counts)"
   ]
  },
  {
   "cell_type": "code",
   "execution_count": null,
   "id": "39e06870-00a9-48cc-a242-28e28cc8cc6f",
   "metadata": {},
   "outputs": [],
   "source": [
    "df_transposed.columns"
   ]
  },
  {
   "cell_type": "markdown",
   "id": "c01e9a25-85e6-4fcf-9157-57601080cb4c",
   "metadata": {},
   "source": [
    "## В следующей функции возникает ошибка скорее всего из-за неправильного символа UNICODE в названии столбца"
   ]
  },
  {
   "cell_type": "code",
   "execution_count": null,
   "id": "c93d1dfa-55d8-4291-9145-17986df36e9a",
   "metadata": {},
   "outputs": [],
   "source": [
    "columns_to_check = ['category']\n",
    "actual_category_column_name = None\n",
    "for c_name in df_transposed.columns:\n",
    "    if 'category' in c_name: # или c_name == 'category'\n",
    "        actual_category_column_name = c_name\n",
    "        break\n",
    "\n",
    "if actual_category_column_name:\n",
    "    columns_to_check = [actual_category_column_name]\n",
    "else:\n",
    "    columns_to_check = [] # 'category' не найдена\n",
    "\n",
    "existing_columns = [col for col in columns_to_check if col in df_transposed.columns]\n",
    "\n",
    "\n",
    "# Если колонки существуют, считаем товары\n",
    "if existing_columns:\n",
    "    # Объединяем значения из существующих колонок\n",
    "    category_counts = pd.concat([df[col] for col in existing_columns])\n",
    "\n",
    "    # Считаем количество товаров в каждой категории\n",
    "    category_counts = category_counts.dropna().value_counts().reset_index()\n",
    "    category_counts.columns = ['category', 'product_count']\n",
    "else:\n",
    "    category_counts = pd.DataFrame(columns=['category', 'product_count'])\n",
    "\n",
    "print(category_counts)"
   ]
  },
  {
   "cell_type": "code",
   "execution_count": 41,
   "id": "99969455-c8fa-4153-9b30-84c64584ce03",
   "metadata": {},
   "outputs": [],
   "source": [
    "df_transposed.to_csv(Config.TRAIN_STORAGE / 'tarin.csv', index=False, encoding='utf-8')"
   ]
  },
  {
   "cell_type": "code",
   "execution_count": null,
   "id": "acd7e3df-b1c8-4451-b139-98c8298a22c6",
   "metadata": {},
   "outputs": [],
   "source": []
  }
 ],
 "metadata": {
  "kernelspec": {
   "display_name": "Python 3 (ipykernel)",
   "language": "python",
   "name": "python3"
  },
  "language_info": {
   "codemirror_mode": {
    "name": "ipython",
    "version": 3
   },
   "file_extension": ".py",
   "mimetype": "text/x-python",
   "name": "python",
   "nbconvert_exporter": "python",
   "pygments_lexer": "ipython3",
   "version": "3.12.7"
  }
 },
 "nbformat": 4,
 "nbformat_minor": 5
}
