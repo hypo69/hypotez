{
 "cells": [
  {
   "cell_type": "code",
   "execution_count": 34,
   "id": "dac35551-3b79-40f9-bffc-357134935b0f",
   "metadata": {},
   "outputs": [],
   "source": [
    "import header\n",
    "from header import __root__\n",
    "from src import gs"
   ]
  },
  {
   "cell_type": "code",
   "execution_count": 35,
   "id": "29c53b41-07ea-4a3d-91b6-f97c9a22931c",
   "metadata": {},
   "outputs": [],
   "source": [
    "import pandas as pd\n",
    "import zipfile\n",
    "import time\n",
    "from pathlib import Path\n",
    "from typing import Optional, List, Dict, Any\n",
    "from types import SimpleNamespace\n",
    "from src.utils.jjson import j_loads, j_loads_ns\n",
    "from src.utils.file import read_text_file, recursively_yield_file_path\n",
    "from src.utils.printer import pprint as print"
   ]
  },
  {
   "cell_type": "code",
   "execution_count": 36,
   "id": "f5370e7d-e021-46e0-ba06-d13c89046fd4",
   "metadata": {},
   "outputs": [],
   "source": [
    "class Config:\n",
    "    \"\"\"Класс конфигурации скрипта.\"\"\"\n",
    "    ENDPOINT: Path = __root__ / 'SANDBOX' / 'davidka'\n",
    "    config: SimpleNamespace = j_loads_ns(ENDPOINT / 'davidka.json')\n",
    "    STORAGE: Path\n",
    "    try:\n",
    "        STORAGE: Path = Path(config.local_storage.storage) if config.actual_storage == 'local_storage' else Path(config.google_drive.storage)\n",
    "    except Exception as ex:\n",
    "        raise ValueError(f\"Ошибка загрузки пути к хранилищу: \", ex)\n",
    "        \n",
    "    TRAIN_STORAGE:Path = STORAGE / 'train_data' / 'product'\n",
    "    UZZIPPED_STORAGE:Path = STORAGE / 'unzipped_storage' / 'product'\n",
    "    GEMINI_API_KEY: Optional[str] = gs.credentials.gemini.onela.api_key # Установить имя владельца ключа (onela, kazazrinov, ...)\n",
    "    GEMINI_MODEL_NAME: str = 'gemini-2.0-flash-exp' # Актуальное имя модели может отличаться, например, 'gemini-1.5-flash-latest'\n",
    "    \n",
    "    "
   ]
  },
  {
   "cell_type": "code",
   "execution_count": 37,
   "id": "d39ae7c3-fa65-46ce-a190-ce502a61de17",
   "metadata": {},
   "outputs": [
    {
     "data": {
      "text/plain": [
       "'\\nwith zipfile.ZipFile(\"your_file.zip\", \\'r\\') as zip_ref:\\n    zip_ref.extractall(ENDPOINT / \\'extracted_data\\')  # например, \\'data\\'\\n    '"
      ]
     },
     "execution_count": 37,
     "metadata": {},
     "output_type": "execute_result"
    }
   ],
   "source": [
    "\"\"\"\n",
    "with zipfile.ZipFile(\"your_file.zip\", 'r') as zip_ref:\n",
    "    zip_ref.extractall(ENDPOINT / 'extracted_data')  # например, 'data'\n",
    "    \"\"\""
   ]
  },
  {
   "cell_type": "code",
   "execution_count": 38,
   "id": "8cf02300-f767-42a8-aae5-f814559eb88d",
   "metadata": {},
   "outputs": [
    {
     "name": "stdout",
     "output_type": "stream",
     "text": [
      "\u001b[37mE:\\hypo69\\llm\\train_data\\product\u001b[0m\n"
     ]
    }
   ],
   "source": [
    "print(Config.TRAIN_STORAGE)"
   ]
  },
  {
   "cell_type": "code",
   "execution_count": 39,
   "id": "3ce08f45-e24a-43ac-852b-6007ec056a87",
   "metadata": {},
   "outputs": [],
   "source": [
    "products_list_all: list[dict] = []\n",
    "counter: int = 0\n",
    "\n",
    "for file in recursively_yield_file_path(Config.TRAIN_STORAGE, '*.json'):\n",
    "    try:\n",
    "        products_list_from_file: list[dict] = j_loads(file)\n",
    "        products_list_all.extend(products_list_from_file)\n",
    "        counter += 1\n",
    "        #print(f\"{counter}: {file} — {len(products_list_from_file)} items\")\n",
    "    except Exception as ex:\n",
    "        logger.error(f\"Ошибка при чтении {file}\", ex)"
   ]
  },
  {
   "cell_type": "code",
   "execution_count": 40,
   "id": "95bb9d3c-0e60-4b7e-b75d-59f3aa1742da",
   "metadata": {},
   "outputs": [
    {
     "name": "stdout",
     "output_type": "stream",
     "text": [
      "\u001b[37m14308\u001b[0m\n"
     ]
    }
   ],
   "source": [
    "print(len(products_list_all))\n"
   ]
  },
  {
   "cell_type": "code",
   "execution_count": null,
   "id": "bd5e964d-61ec-42a8-b3ae-f067c53bd116",
   "metadata": {},
   "outputs": [],
   "source": [
    "df = pd.DataFrame()\n",
    "\n",
    "for product in products_list_all:\n",
    "    df = pd.concat([df, pd.DataFrame([product])], ignore_index=True)"
   ]
  },
  {
   "cell_type": "code",
   "execution_count": 42,
   "id": "1b125f4a-3926-48d2-afb0-8b231865f899",
   "metadata": {},
   "outputs": [],
   "source": []
  },
  {
   "cell_type": "code",
   "execution_count": 45,
   "id": "fc94f6fe-1f9b-4844-a51d-06f8c065ad1d",
   "metadata": {},
   "outputs": [
    {
     "name": "stdout",
     "output_type": "stream",
     "text": [
      "\u001b[37m14308\u001b[0m\n"
     ]
    }
   ],
   "source": [
    "print(len(df))"
   ]
  },
  {
   "cell_type": "code",
   "execution_count": 47,
   "id": "1c626ad4-9475-4f73-88ff-6d1e35628ed6",
   "metadata": {},
   "outputs": [
    {
     "ename": "ValueError",
     "evalue": "The truth value of a DataFrame is ambiguous. Use a.empty, a.bool(), a.item(), a.any() or a.all().",
     "output_type": "error",
     "traceback": [
      "\u001b[1;31m---------------------------------------------------------------------------\u001b[0m",
      "\u001b[1;31mValueError\u001b[0m                                Traceback (most recent call last)",
      "\u001b[1;32m~\\AppData\\Local\\Temp\\ipykernel_14896\\1225816785.py\u001b[0m in \u001b[0;36m?\u001b[1;34m()\u001b[0m\n\u001b[1;32m----> 1\u001b[1;33m \u001b[0mprint\u001b[0m\u001b[1;33m(\u001b[0m\u001b[0mdf\u001b[0m\u001b[1;33m.\u001b[0m\u001b[0mhead\u001b[0m\u001b[1;33m(\u001b[0m\u001b[1;36m5\u001b[0m\u001b[1;33m)\u001b[0m\u001b[1;33m)\u001b[0m\u001b[1;33m\u001b[0m\u001b[1;33m\u001b[0m\u001b[0m\n\u001b[0m",
      "\u001b[1;32m~\\Documents\\repos\\hypotez\\src\\utils\\printer.py\u001b[0m in \u001b[0;36m?\u001b[1;34m(print_data, text_color, bg_color, font_style)\u001b[0m\n\u001b[0;32m    107\u001b[0m \u001b[1;33m\u001b[0m\u001b[0m\n\u001b[0;32m    108\u001b[0m         \u001b[1;33m>>\u001b[0m\u001b[1;33m>\u001b[0m \u001b[0mpprint\u001b[0m\u001b[1;33m(\u001b[0m\u001b[1;34m\"text example\"\u001b[0m\u001b[1;33m,\u001b[0m \u001b[0mtext_color\u001b[0m\u001b[1;33m=\u001b[0m\u001b[1;34m\"yellow\"\u001b[0m\u001b[1;33m,\u001b[0m \u001b[0mbg_color\u001b[0m\u001b[1;33m=\u001b[0m\u001b[1;34m\"bg_red\"\u001b[0m\u001b[1;33m,\u001b[0m \u001b[0mfont_style\u001b[0m\u001b[1;33m=\u001b[0m\u001b[1;34m\"underline\"\u001b[0m\u001b[1;33m)\u001b[0m\u001b[1;33m\u001b[0m\u001b[1;33m\u001b[0m\u001b[0m\n\u001b[0;32m    109\u001b[0m         \\033[4m\\033[33m\\033[41mtext example\\033[0m\n\u001b[0;32m    110\u001b[0m     \"\"\"\n\u001b[1;32m--> 111\u001b[1;33m     \u001b[1;32mif\u001b[0m \u001b[1;32mnot\u001b[0m \u001b[0mprint_data\u001b[0m\u001b[1;33m:\u001b[0m\u001b[1;33m\u001b[0m\u001b[1;33m\u001b[0m\u001b[0m\n\u001b[0m\u001b[0;32m    112\u001b[0m         \u001b[1;32mreturn\u001b[0m\u001b[1;33m\u001b[0m\u001b[1;33m\u001b[0m\u001b[0m\n\u001b[0;32m    113\u001b[0m     \u001b[1;32mif\u001b[0m \u001b[0misinstance\u001b[0m\u001b[1;33m(\u001b[0m\u001b[0mtext_color\u001b[0m\u001b[1;33m,\u001b[0m \u001b[0mstr\u001b[0m\u001b[1;33m)\u001b[0m\u001b[1;33m:\u001b[0m\u001b[1;33m\u001b[0m\u001b[1;33m\u001b[0m\u001b[0m\n\u001b[0;32m    114\u001b[0m         \u001b[0mtext_color\u001b[0m \u001b[1;33m=\u001b[0m \u001b[0mTEXT_COLORS\u001b[0m\u001b[1;33m.\u001b[0m\u001b[0mget\u001b[0m\u001b[1;33m(\u001b[0m\u001b[0mtext_color\u001b[0m\u001b[1;33m.\u001b[0m\u001b[0mlower\u001b[0m\u001b[1;33m(\u001b[0m\u001b[1;33m)\u001b[0m\u001b[1;33m,\u001b[0m \u001b[0mTEXT_COLORS\u001b[0m\u001b[1;33m[\u001b[0m\u001b[1;34m\"white\"\u001b[0m\u001b[1;33m]\u001b[0m\u001b[1;33m)\u001b[0m\u001b[1;33m\u001b[0m\u001b[1;33m\u001b[0m\u001b[0m\n",
      "\u001b[1;32mC:\\anaconda3\\Lib\\site-packages\\pandas\\core\\generic.py\u001b[0m in \u001b[0;36m?\u001b[1;34m(self)\u001b[0m\n\u001b[0;32m   1575\u001b[0m     \u001b[1;33m@\u001b[0m\u001b[0mfinal\u001b[0m\u001b[1;33m\u001b[0m\u001b[1;33m\u001b[0m\u001b[0m\n\u001b[0;32m   1576\u001b[0m     \u001b[1;32mdef\u001b[0m \u001b[0m__nonzero__\u001b[0m\u001b[1;33m(\u001b[0m\u001b[0mself\u001b[0m\u001b[1;33m)\u001b[0m \u001b[1;33m->\u001b[0m \u001b[0mNoReturn\u001b[0m\u001b[1;33m:\u001b[0m\u001b[1;33m\u001b[0m\u001b[1;33m\u001b[0m\u001b[0m\n\u001b[1;32m-> 1577\u001b[1;33m         raise ValueError(\n\u001b[0m\u001b[0;32m   1578\u001b[0m             \u001b[1;33mf\"\u001b[0m\u001b[1;33mThe truth value of a \u001b[0m\u001b[1;33m{\u001b[0m\u001b[0mtype\u001b[0m\u001b[1;33m(\u001b[0m\u001b[0mself\u001b[0m\u001b[1;33m)\u001b[0m\u001b[1;33m.\u001b[0m\u001b[0m__name__\u001b[0m\u001b[1;33m}\u001b[0m\u001b[1;33m is ambiguous. \u001b[0m\u001b[1;33m\"\u001b[0m\u001b[1;33m\u001b[0m\u001b[1;33m\u001b[0m\u001b[0m\n\u001b[0;32m   1579\u001b[0m             \u001b[1;34m\"Use a.empty, a.bool(), a.item(), a.any() or a.all().\"\u001b[0m\u001b[1;33m\u001b[0m\u001b[1;33m\u001b[0m\u001b[0m\n\u001b[0;32m   1580\u001b[0m         \u001b[1;33m)\u001b[0m\u001b[1;33m\u001b[0m\u001b[1;33m\u001b[0m\u001b[0m\n",
      "\u001b[1;31mValueError\u001b[0m: The truth value of a DataFrame is ambiguous. Use a.empty, a.bool(), a.item(), a.any() or a.all()."
     ]
    }
   ],
   "source": [
    "print(df.head(5))"
   ]
  },
  {
   "cell_type": "code",
   "execution_count": 32,
   "id": "070d24db-8168-4ab1-a3e0-58af5389e85f",
   "metadata": {},
   "outputs": [
    {
     "ename": "ValueError",
     "evalue": "The truth value of a Index is ambiguous. Use a.empty, a.bool(), a.item(), a.any() or a.all().",
     "output_type": "error",
     "traceback": [
      "\u001b[1;31m---------------------------------------------------------------------------\u001b[0m",
      "\u001b[1;31mValueError\u001b[0m                                Traceback (most recent call last)",
      "Cell \u001b[1;32mIn[32], line 1\u001b[0m\n\u001b[1;32m----> 1\u001b[0m \u001b[38;5;28mprint\u001b[39m(df\u001b[38;5;241m.\u001b[39mcolumns[:\u001b[38;5;241m5\u001b[39m])\n",
      "File \u001b[1;32m~\\Documents\\repos\\hypotez\\src\\utils\\printer.py:111\u001b[0m, in \u001b[0;36mpprint\u001b[1;34m(print_data, text_color, bg_color, font_style)\u001b[0m\n\u001b[0;32m     81\u001b[0m \u001b[38;5;28;01mdef\u001b[39;00m \u001b[38;5;21mpprint\u001b[39m(print_data: Any \u001b[38;5;241m=\u001b[39m \u001b[38;5;28;01mNone\u001b[39;00m, text_color: \u001b[38;5;28mstr\u001b[39m \u001b[38;5;241m=\u001b[39m \u001b[38;5;124m\"\u001b[39m\u001b[38;5;124mwhite\u001b[39m\u001b[38;5;124m\"\u001b[39m, bg_color: \u001b[38;5;28mstr\u001b[39m \u001b[38;5;241m=\u001b[39m \u001b[38;5;124m\"\u001b[39m\u001b[38;5;124m\"\u001b[39m, font_style: \u001b[38;5;28mstr\u001b[39m \u001b[38;5;241m=\u001b[39m \u001b[38;5;124m\"\u001b[39m\u001b[38;5;124m\"\u001b[39m) \u001b[38;5;241m-\u001b[39m\u001b[38;5;241m>\u001b[39m \u001b[38;5;28;01mNone\u001b[39;00m:\n\u001b[0;32m     82\u001b[0m \u001b[38;5;250m    \u001b[39m\u001b[38;5;124;03m\"\"\"Pretty prints the given data with optional color, background, and font style.\u001b[39;00m\n\u001b[0;32m     83\u001b[0m \n\u001b[0;32m     84\u001b[0m \u001b[38;5;124;03m    This function formats the input data based on its type and prints it to the console. The data is printed with optional \u001b[39;00m\n\u001b[1;32m   (...)\u001b[0m\n\u001b[0;32m    109\u001b[0m \u001b[38;5;124;03m        \\033[4m\\033[33m\\033[41mtext example\\033[0m\u001b[39;00m\n\u001b[0;32m    110\u001b[0m \u001b[38;5;124;03m    \"\"\"\u001b[39;00m\n\u001b[1;32m--> 111\u001b[0m     \u001b[38;5;28;01mif\u001b[39;00m \u001b[38;5;129;01mnot\u001b[39;00m print_data:\n\u001b[0;32m    112\u001b[0m         \u001b[38;5;28;01mreturn\u001b[39;00m\n\u001b[0;32m    113\u001b[0m     \u001b[38;5;28;01mif\u001b[39;00m \u001b[38;5;28misinstance\u001b[39m(text_color, \u001b[38;5;28mstr\u001b[39m):\n",
      "File \u001b[1;32mC:\\anaconda3\\Lib\\site-packages\\pandas\\core\\indexes\\base.py:3190\u001b[0m, in \u001b[0;36mIndex.__nonzero__\u001b[1;34m(self)\u001b[0m\n\u001b[0;32m   3188\u001b[0m \u001b[38;5;129m@final\u001b[39m\n\u001b[0;32m   3189\u001b[0m \u001b[38;5;28;01mdef\u001b[39;00m \u001b[38;5;21m__nonzero__\u001b[39m(\u001b[38;5;28mself\u001b[39m) \u001b[38;5;241m-\u001b[39m\u001b[38;5;241m>\u001b[39m NoReturn:\n\u001b[1;32m-> 3190\u001b[0m     \u001b[38;5;28;01mraise\u001b[39;00m \u001b[38;5;167;01mValueError\u001b[39;00m(\n\u001b[0;32m   3191\u001b[0m         \u001b[38;5;124mf\u001b[39m\u001b[38;5;124m\"\u001b[39m\u001b[38;5;124mThe truth value of a \u001b[39m\u001b[38;5;132;01m{\u001b[39;00m\u001b[38;5;28mtype\u001b[39m(\u001b[38;5;28mself\u001b[39m)\u001b[38;5;241m.\u001b[39m\u001b[38;5;18m__name__\u001b[39m\u001b[38;5;132;01m}\u001b[39;00m\u001b[38;5;124m is ambiguous. \u001b[39m\u001b[38;5;124m\"\u001b[39m\n\u001b[0;32m   3192\u001b[0m         \u001b[38;5;124m\"\u001b[39m\u001b[38;5;124mUse a.empty, a.bool(), a.item(), a.any() or a.all().\u001b[39m\u001b[38;5;124m\"\u001b[39m\n\u001b[0;32m   3193\u001b[0m     )\n",
      "\u001b[1;31mValueError\u001b[0m: The truth value of a Index is ambiguous. Use a.empty, a.bool(), a.item(), a.any() or a.all()."
     ]
    }
   ],
   "source": [
    "print(df.columns[:5])"
   ]
  },
  {
   "cell_type": "code",
   "execution_count": 22,
   "id": "498eaf83-e39f-49ef-b0f2-ace16aee65d0",
   "metadata": {},
   "outputs": [
    {
     "name": "stdout",
     "output_type": "stream",
     "text": [
      "5768\n"
     ]
    }
   ],
   "source": [
    "print(len(df.columns))"
   ]
  },
  {
   "cell_type": "code",
   "execution_count": 19,
   "id": "f8d59df7-fbb3-484e-881d-448fcac1ac61",
   "metadata": {},
   "outputs": [],
   "source": [
    "df_transposed = df.T"
   ]
  },
  {
   "cell_type": "code",
   "execution_count": 21,
   "id": "be257cbd-cb52-4483-8c0c-4e8c3f8dd44c",
   "metadata": {},
   "outputs": [
    {
     "name": "stdout",
     "output_type": "stream",
     "text": [
      "RangeIndex(start=0, stop=5, step=1)\n"
     ]
    }
   ],
   "source": [
    "print(df_transposed.columns[:5])"
   ]
  },
  {
   "cell_type": "code",
   "execution_count": null,
   "id": "1c7ee9ea-4145-41b5-973c-b87993bd83bf",
   "metadata": {},
   "outputs": [],
   "source": [
    "df_cleaned = df_transposed.dropna(subset=['supplier'])\n"
   ]
  },
  {
   "cell_type": "code",
   "execution_count": null,
   "id": "8594ef52-3a4f-46ca-aba5-b17e97073fd5",
   "metadata": {},
   "outputs": [],
   "source": [
    "supplier_list = df_cleaned['supplier'].dropna().unique()\n",
    "print(supplier_list)"
   ]
  },
  {
   "cell_type": "code",
   "execution_count": null,
   "id": "2f457360-576d-4f46-8422-1a13becdbbcd",
   "metadata": {},
   "outputs": [],
   "source": [
    "supplier_counts = df_clean.groupby('supplier').count().reset_index()"
   ]
  },
  {
   "cell_type": "code",
   "execution_count": null,
   "id": "5ea01d64-865d-46f4-ae8d-635463e20b13",
   "metadata": {},
   "outputs": [],
   "source": [
    "print(supplier_counts)"
   ]
  },
  {
   "cell_type": "code",
   "execution_count": null,
   "id": "39e06870-00a9-48cc-a242-28e28cc8cc6f",
   "metadata": {},
   "outputs": [],
   "source": [
    "df_transposed.columns"
   ]
  },
  {
   "cell_type": "markdown",
   "id": "c01e9a25-85e6-4fcf-9157-57601080cb4c",
   "metadata": {},
   "source": [
    "## В следующей функции возникает ошибка скорее всего из-за неправильного символа UNICODE в названии столбца"
   ]
  },
  {
   "cell_type": "code",
   "execution_count": null,
   "id": "c93d1dfa-55d8-4291-9145-17986df36e9a",
   "metadata": {},
   "outputs": [],
   "source": [
    "columns_to_check = ['category']\n",
    "actual_category_column_name = None\n",
    "for c_name in df_transposed.columns:\n",
    "    if 'category' in c_name: # или c_name == 'category'\n",
    "        actual_category_column_name = c_name\n",
    "        break\n",
    "\n",
    "if actual_category_column_name:\n",
    "    columns_to_check = [actual_category_column_name]\n",
    "else:\n",
    "    columns_to_check = [] # 'category' не найдена\n",
    "\n",
    "existing_columns = [col for col in columns_to_check if col in df_transposed.columns]\n",
    "\n",
    "\n",
    "# Если колонки существуют, считаем товары\n",
    "if existing_columns:\n",
    "    # Объединяем значения из существующих колонок\n",
    "    category_counts = pd.concat([df[col] for col in existing_columns])\n",
    "\n",
    "    # Считаем количество товаров в каждой категории\n",
    "    category_counts = category_counts.dropna().value_counts().reset_index()\n",
    "    category_counts.columns = ['category', 'product_count']\n",
    "else:\n",
    "    category_counts = pd.DataFrame(columns=['category', 'product_count'])\n",
    "\n",
    "print(category_counts)"
   ]
  },
  {
   "cell_type": "code",
   "execution_count": null,
   "id": "99969455-c8fa-4153-9b30-84c64584ce03",
   "metadata": {},
   "outputs": [],
   "source": [
    "df_transposed.to_csv(Config.TRAIN_STORAGE / 'tarin.csv', index=False, encoding='utf-8')"
   ]
  },
  {
   "cell_type": "code",
   "execution_count": null,
   "id": "acd7e3df-b1c8-4451-b139-98c8298a22c6",
   "metadata": {},
   "outputs": [],
   "source": []
  }
 ],
 "metadata": {
  "kernelspec": {
   "display_name": "Python 3 (ipykernel)",
   "language": "python",
   "name": "python3"
  },
  "language_info": {
   "codemirror_mode": {
    "name": "ipython",
    "version": 3
   },
   "file_extension": ".py",
   "mimetype": "text/x-python",
   "name": "python",
   "nbconvert_exporter": "python",
   "pygments_lexer": "ipython3",
   "version": "3.12.7"
  }
 },
 "nbformat": 4,
 "nbformat_minor": 5
}
