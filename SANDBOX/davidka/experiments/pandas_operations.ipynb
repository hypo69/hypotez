{
 "cells": [
  {
   "cell_type": "code",
   "execution_count": 70,
   "id": "dac35551-3b79-40f9-bffc-357134935b0f",
   "metadata": {},
   "outputs": [],
   "source": [
    "import header\n",
    "from header import __root__\n",
    "from src import gs"
   ]
  },
  {
   "cell_type": "code",
   "execution_count": 71,
   "id": "29c53b41-07ea-4a3d-91b6-f97c9a22931c",
   "metadata": {},
   "outputs": [],
   "source": [
    "import pandas as pd\n",
    "import zipfile\n",
    "import time\n",
    "from pathlib import Path\n",
    "from typing import Optional, List, Dict, Any\n",
    "from types import SimpleNamespace\n",
    "from src.utils.jjson import j_loads, j_loads_ns\n",
    "from src.utils.file import read_text_file, recursively_yield_file_path\n",
    "from src.utils.printer import pprint as print"
   ]
  },
  {
   "cell_type": "code",
   "execution_count": 72,
   "id": "f5370e7d-e021-46e0-ba06-d13c89046fd4",
   "metadata": {},
   "outputs": [],
   "source": [
    "class Config:\n",
    "    \"\"\"Класс конфигурации скрипта.\"\"\"\n",
    "    ENDPOINT: Path = __root__ / 'SANDBOX' / 'davidka'\n",
    "    config: SimpleNamespace = j_loads_ns(ENDPOINT / 'davidka.json')\n",
    "    STORAGE: Path\n",
    "    try:\n",
    "        STORAGE: Path = Path(config.local_storage.storage) if config.actual_storage == 'local_storage' else Path(config.google_drive.storage)\n",
    "    except Exception as ex:\n",
    "        raise ValueError(f\"Ошибка загрузки пути к хранилищу: \", ex)\n",
    "        \n",
    "    TRAIN_STORAGE:Path = STORAGE / 'train_data' / 'product'\n",
    "    UZZIPPED_STORAGE:Path = STORAGE / 'unzipped_storage' / 'product'\n",
    "    GEMINI_API_KEY: Optional[str] = gs.credentials.gemini.onela.api_key # Установить имя владельца ключа (onela, kazazrinov, ...)\n",
    "    GEMINI_MODEL_NAME: str = 'gemini-2.0-flash-exp' # Актуальное имя модели может отличаться, например, 'gemini-1.5-flash-latest'\n",
    "    \n",
    "    "
   ]
  },
  {
   "cell_type": "code",
   "execution_count": 73,
   "id": "d39ae7c3-fa65-46ce-a190-ce502a61de17",
   "metadata": {},
   "outputs": [
    {
     "data": {
      "text/plain": [
       "'\\nwith zipfile.ZipFile(\"your_file.zip\", \\'r\\') as zip_ref:\\n    zip_ref.extractall(ENDPOINT / \\'extracted_data\\')  # например, \\'data\\'\\n    '"
      ]
     },
     "execution_count": 73,
     "metadata": {},
     "output_type": "execute_result"
    }
   ],
   "source": [
    "\"\"\"\n",
    "with zipfile.ZipFile(\"your_file.zip\", 'r') as zip_ref:\n",
    "    zip_ref.extractall(ENDPOINT / 'extracted_data')  # например, 'data'\n",
    "    \"\"\""
   ]
  },
  {
   "cell_type": "code",
   "execution_count": 74,
   "id": "8cf02300-f767-42a8-aae5-f814559eb88d",
   "metadata": {},
   "outputs": [
    {
     "name": "stdout",
     "output_type": "stream",
     "text": [
      "\u001b[37mE:\\hypo69\\llm\\train_data\\product\u001b[0m\n"
     ]
    }
   ],
   "source": [
    "print(Config.TRAIN_STORAGE)"
   ]
  },
  {
   "cell_type": "code",
   "execution_count": 101,
   "id": "3ce08f45-e24a-43ac-852b-6007ec056a87",
   "metadata": {},
   "outputs": [
    {
     "ename": "SyntaxError",
     "evalue": "incomplete input (1402321004.py, line 1)",
     "output_type": "error",
     "traceback": [
      "\u001b[1;36m  Cell \u001b[1;32mIn[101], line 1\u001b[1;36m\u001b[0m\n\u001b[1;33m    \"\"\"\u001b[0m\n\u001b[1;37m    ^\u001b[0m\n\u001b[1;31mSyntaxError\u001b[0m\u001b[1;31m:\u001b[0m incomplete input\n"
     ]
    }
   ],
   "source": [
    "\"\"\"\n",
    "products_list_all: list[dict] = []\n",
    "counter: int = 0\n",
    "\n",
    "for file in recursively_yield_file_path(Config.TRAIN_STORAGE, '*.json'):\n",
    "    try:\n",
    "        products_list_from_file: list[dict] = j_loads(file)\n",
    "        products_list_all.extend(products_list_from_file)\n",
    "        counter += 1\n",
    "        #print(f\"{counter}: {file} — {len(products_list_from_file)} items\")\n",
    "    except Exception as ex:\n",
    "        logger.error(f\"Ошибка при чтении {file}\", ex)\n",
    "    \"\"\""
   ]
  },
  {
   "cell_type": "code",
   "execution_count": 91,
   "id": "95bb9d3c-0e60-4b7e-b75d-59f3aa1742da",
   "metadata": {},
   "outputs": [
    {
     "name": "stdout",
     "output_type": "stream",
     "text": [
      "\u001b[37m1965\u001b[0m\n"
     ]
    }
   ],
   "source": [
    "#print(len(products_list_all))\n"
   ]
  },
  {
   "cell_type": "code",
   "execution_count": 92,
   "id": "bd5e964d-61ec-42a8-b3ae-f067c53bd116",
   "metadata": {},
   "outputs": [
    {
     "data": {
      "text/plain": [
       "'\\ndf = pd.DataFrame()\\n\\nfor product in products_list_all:\\n    df = pd.concat([df, pd.DataFrame([product])], ignore_index=True)\\n'"
      ]
     },
     "execution_count": 92,
     "metadata": {},
     "output_type": "execute_result"
    }
   ],
   "source": [
    "\"\"\"\n",
    "df = pd.DataFrame()\n",
    "\n",
    "for product in products_list_all:\n",
    "    df = pd.concat([df, pd.DataFrame([product])], ignore_index=True)\n",
    "\"\"\""
   ]
  },
  {
   "cell_type": "code",
   "execution_count": 102,
   "id": "928855a3-58d8-44ea-a941-2954b81a67a6",
   "metadata": {},
   "outputs": [],
   "source": [
    "products_dict: dict = {}\n",
    "counter: int = 0\n",
    "\n",
    "for file in recursively_yield_file_path(Config.TRAIN_STORAGE, '*.json'):\n",
    "    try:\n",
    "        products_dict.update( j_loads(file) )\n",
    "        counter += 1\n",
    "        #print(f\"{counter}: {file} — {len(products_list_from_file)} items\")\n",
    "    except Exception as ex:\n",
    "        logger.error(f\"Ошибка при чтении {file}\", ex)"
   ]
  },
  {
   "cell_type": "code",
   "execution_count": 103,
   "id": "4950341e-2814-4b63-adcb-6225cdf66e59",
   "metadata": {},
   "outputs": [],
   "source": [
    "df = pd.DataFrame(products_dict)"
   ]
  },
  {
   "cell_type": "code",
   "execution_count": 104,
   "id": "fc94f6fe-1f9b-4844-a51d-06f8c065ad1d",
   "metadata": {},
   "outputs": [
    {
     "name": "stdout",
     "output_type": "stream",
     "text": [
      "\u001b[37m20\u001b[0m\n"
     ]
    }
   ],
   "source": [
    "print(len(df))"
   ]
  },
  {
   "cell_type": "code",
   "execution_count": null,
   "id": "1c626ad4-9475-4f73-88ff-6d1e35628ed6",
   "metadata": {},
   "outputs": [],
   "source": [
    "df.head"
   ]
  },
  {
   "cell_type": "code",
   "execution_count": 96,
   "id": "070d24db-8168-4ab1-a3e0-58af5389e85f",
   "metadata": {},
   "outputs": [
    {
     "data": {
      "text/plain": [
       "RangeIndex(start=0, stop=1, step=1)"
      ]
     },
     "execution_count": 96,
     "metadata": {},
     "output_type": "execute_result"
    }
   ],
   "source": [
    "df.columns[:2]"
   ]
  },
  {
   "cell_type": "code",
   "execution_count": 97,
   "id": "498eaf83-e39f-49ef-b0f2-ace16aee65d0",
   "metadata": {},
   "outputs": [
    {
     "name": "stdout",
     "output_type": "stream",
     "text": [
      "\u001b[37m1\u001b[0m\n"
     ]
    }
   ],
   "source": [
    "print(len(df.columns))"
   ]
  },
  {
   "cell_type": "code",
   "execution_count": 98,
   "id": "f8d59df7-fbb3-484e-881d-448fcac1ac61",
   "metadata": {},
   "outputs": [],
   "source": [
    "df_transposed = df.T"
   ]
  },
  {
   "cell_type": "code",
   "execution_count": 99,
   "id": "be257cbd-cb52-4483-8c0c-4e8c3f8dd44c",
   "metadata": {},
   "outputs": [
    {
     "data": {
      "text/plain": [
       "RangeIndex(start=0, stop=1965, step=1)"
      ]
     },
     "execution_count": 99,
     "metadata": {},
     "output_type": "execute_result"
    }
   ],
   "source": [
    "df_transposed.columns"
   ]
  },
  {
   "cell_type": "code",
   "execution_count": 100,
   "id": "207cdb45-2893-49d5-a950-baa29e2df541",
   "metadata": {},
   "outputs": [
    {
     "data": {
      "text/plain": [
       "<bound method NDFrame.head of                                                 0     \\\n",
       "0  https://airgasnordest.com/wp-content/uploads/T...   \n",
       "\n",
       "                                                1     \\\n",
       "0  https://airgasnordest.com/abrasivi/lpg-ceramic...   \n",
       "\n",
       "                                                2     \\\n",
       "0  https://airgasnordest.com/impianti_da_taglio/m...   \n",
       "\n",
       "                                                3     \\\n",
       "0  https://airgasnordest.com/impianti_da_taglio/m...   \n",
       "\n",
       "                                  4     \\\n",
       "0  https://airgasnordest.com/noleggio/   \n",
       "\n",
       "                                                5     \\\n",
       "0  https://airgasnordest.com/abrasivi/norton-razo...   \n",
       "\n",
       "                                                6     \\\n",
       "0  https://airgasnordest.com/wp-content/uploads/V...   \n",
       "\n",
       "                                                7     \\\n",
       "0  https://airgasnordest.com/wp-content/uploads/R...   \n",
       "\n",
       "                                                8     \\\n",
       "0  https://airgasnordest.com/impianti_da_taglio/m...   \n",
       "\n",
       "                                                9     ...  \\\n",
       "0  https://airgasnordest.com/wp-content/uploads/m...  ...   \n",
       "\n",
       "                                                1955  \\\n",
       "0  http://it.thermo-heater.com/mechanical-timer/s...   \n",
       "\n",
       "                                                1956  \\\n",
       "0  http://it.thermo-heater.com/domestic-heating-e...   \n",
       "\n",
       "                                                1957  \\\n",
       "0  http://it.thermo-heater.com/mechanical-timer/d...   \n",
       "\n",
       "                                                1958  \\\n",
       "0  http://it.thermo-heater.com/domestic-heating-e...   \n",
       "\n",
       "                                                1959  \\\n",
       "0  http://it.thermo-heater.com/band-heater/alumin...   \n",
       "\n",
       "                                                1960  \\\n",
       "0  http://it.thermo-heater.com/domestic-heating-e...   \n",
       "\n",
       "                                                1961  \\\n",
       "0  http://it.thermo-heater.com/band-heater/mica-b...   \n",
       "\n",
       "                                                1962  \\\n",
       "0  http://it.thermo-heater.com/silicone-rubber-he...   \n",
       "\n",
       "                                                1963  \\\n",
       "0  http://it.thermo-heater.com/flat-heating-eleme...   \n",
       "\n",
       "                                                1964  \n",
       "0  http://it.thermo-heater.com/mechanical-timer/r...  \n",
       "\n",
       "[1 rows x 1965 columns]>"
      ]
     },
     "execution_count": 100,
     "metadata": {},
     "output_type": "execute_result"
    }
   ],
   "source": [
    "df_transposed.head"
   ]
  },
  {
   "cell_type": "code",
   "execution_count": null,
   "id": "1c7ee9ea-4145-41b5-973c-b87993bd83bf",
   "metadata": {},
   "outputs": [],
   "source": [
    "df_cleaned = df_transposed.dropna(subset=['supplier'])\n"
   ]
  },
  {
   "cell_type": "code",
   "execution_count": null,
   "id": "8594ef52-3a4f-46ca-aba5-b17e97073fd5",
   "metadata": {},
   "outputs": [],
   "source": [
    "supplier_list = df_cleaned['supplier'].dropna().unique()\n",
    "print(supplier_list)"
   ]
  },
  {
   "cell_type": "code",
   "execution_count": null,
   "id": "2f457360-576d-4f46-8422-1a13becdbbcd",
   "metadata": {},
   "outputs": [],
   "source": [
    "supplier_counts = df_clean.groupby('supplier').count().reset_index()"
   ]
  },
  {
   "cell_type": "code",
   "execution_count": null,
   "id": "5ea01d64-865d-46f4-ae8d-635463e20b13",
   "metadata": {},
   "outputs": [],
   "source": [
    "print(supplier_counts)"
   ]
  },
  {
   "cell_type": "code",
   "execution_count": null,
   "id": "39e06870-00a9-48cc-a242-28e28cc8cc6f",
   "metadata": {},
   "outputs": [],
   "source": [
    "df_transposed.columns"
   ]
  },
  {
   "cell_type": "markdown",
   "id": "c01e9a25-85e6-4fcf-9157-57601080cb4c",
   "metadata": {},
   "source": [
    "## В следующей функции возникает ошибка скорее всего из-за неправильного символа UNICODE в названии столбца"
   ]
  },
  {
   "cell_type": "code",
   "execution_count": null,
   "id": "c93d1dfa-55d8-4291-9145-17986df36e9a",
   "metadata": {},
   "outputs": [],
   "source": [
    "columns_to_check = ['category']\n",
    "actual_category_column_name = None\n",
    "for c_name in df_transposed.columns:\n",
    "    if 'category' in c_name: # или c_name == 'category'\n",
    "        actual_category_column_name = c_name\n",
    "        break\n",
    "\n",
    "if actual_category_column_name:\n",
    "    columns_to_check = [actual_category_column_name]\n",
    "else:\n",
    "    columns_to_check = [] # 'category' не найдена\n",
    "\n",
    "existing_columns = [col for col in columns_to_check if col in df_transposed.columns]\n",
    "\n",
    "\n",
    "# Если колонки существуют, считаем товары\n",
    "if existing_columns:\n",
    "    # Объединяем значения из существующих колонок\n",
    "    category_counts = pd.concat([df[col] for col in existing_columns])\n",
    "\n",
    "    # Считаем количество товаров в каждой категории\n",
    "    category_counts = category_counts.dropna().value_counts().reset_index()\n",
    "    category_counts.columns = ['category', 'product_count']\n",
    "else:\n",
    "    category_counts = pd.DataFrame(columns=['category', 'product_count'])\n",
    "\n",
    "print(category_counts)"
   ]
  },
  {
   "cell_type": "code",
   "execution_count": null,
   "id": "99969455-c8fa-4153-9b30-84c64584ce03",
   "metadata": {},
   "outputs": [],
   "source": [
    "df_transposed.to_csv(Config.TRAIN_STORAGE / 'tarin.csv', index=False, encoding='utf-8')"
   ]
  },
  {
   "cell_type": "code",
   "execution_count": null,
   "id": "acd7e3df-b1c8-4451-b139-98c8298a22c6",
   "metadata": {},
   "outputs": [],
   "source": []
  }
 ],
 "metadata": {
  "kernelspec": {
   "display_name": "Python 3 (ipykernel)",
   "language": "python",
   "name": "python3"
  },
  "language_info": {
   "codemirror_mode": {
    "name": "ipython",
    "version": 3
   },
   "file_extension": ".py",
   "mimetype": "text/x-python",
   "name": "python",
   "nbconvert_exporter": "python",
   "pygments_lexer": "ipython3",
   "version": "3.12.7"
  }
 },
 "nbformat": 4,
 "nbformat_minor": 5
}
