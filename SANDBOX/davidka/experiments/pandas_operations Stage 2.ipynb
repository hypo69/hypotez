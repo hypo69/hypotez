{
 "cells": [
  {
   "cell_type": "code",
   "execution_count": 1,
   "id": "dac35551-3b79-40f9-bffc-357134935b0f",
   "metadata": {},
   "outputs": [
    {
     "name": "stdout",
     "output_type": "stream",
     "text": [
      "\u001b[37m🔑 Found password in password.txt (DEBUG MODE)\u001b[0m\n",
      "\u001b[37m✅ Successfully opened KeePass database: C:\\Users\\user\\Documents\\repos\\hypotez\\secrets\\credentials.kdbx\u001b[0m\n",
      "\u001b[37mFailed to load GAPI credentials\u001b[0m\n"
     ]
    },
    {
     "name": "stderr",
     "output_type": "stream",
     "text": [
      "2025-05-16 06:41:08,512 - DEBUG - 🐛 \u001b[36m\u001b[49mНет нового релиза: https://github.com/repos/hypotez/hypo/releases/latest\n",
      " response.status_code=404 \u001b[0m\n"
     ]
    }
   ],
   "source": [
    "import header\n",
    "from header import __root__\n",
    "from src import gs"
   ]
  },
  {
   "cell_type": "code",
   "execution_count": 2,
   "id": "29c53b41-07ea-4a3d-91b6-f97c9a22931c",
   "metadata": {},
   "outputs": [],
   "source": [
    "import pandas as pd\n",
    "import zipfile\n",
    "import time\n",
    "from pathlib import Path\n",
    "from typing import Optional, List, Dict, Any\n",
    "from types import SimpleNamespace\n",
    "from src.utils.jjson import j_loads, j_loads_ns\n",
    "from src.utils.file import read_text_file, recursively_yield_file_path\n",
    "from src.utils.printer import pprint as print\n",
    "from src.logger import logger"
   ]
  },
  {
   "cell_type": "code",
   "execution_count": 3,
   "id": "f5370e7d-e021-46e0-ba06-d13c89046fd4",
   "metadata": {},
   "outputs": [],
   "source": [
    "class Config:\n",
    "    \"\"\"Класс конфигурации скрипта.\"\"\"\n",
    "    ENDPOINT: Path = __root__ / 'SANDBOX' / 'davidka'\n",
    "    config: SimpleNamespace = j_loads_ns(ENDPOINT / 'davidka.json')\n",
    "    STORAGE: Path\n",
    "    try:\n",
    "        STORAGE: Path = Path(config.local_storage.storage) if config.actual_storage == 'local_storage' else Path(config.google_drive.storage)\n",
    "    except Exception as ex:\n",
    "        raise ValueError(f\"Ошибка загрузки пути к хранилищу: \", ex)\n",
    "        \n",
    "    TRAIN_STORAGE:Path = STORAGE / 'train_data' # / 'product'\n",
    "    UZZIPPED_STORAGE:Path = STORAGE / 'unzipped_storage' / 'product'\n",
    "    GEMINI_API_KEY: Optional[str] = gs.credentials.gemini.onela.api_key # Установить имя владельца ключа (onela, kazazrinov, ...)\n",
    "    GEMINI_MODEL_NAME: str = 'gemini-2.0-flash-exp' # Актуальное имя модели может отличаться, например, 'gemini-1.5-flash-latest'\n",
    "    \n",
    "    "
   ]
  },
  {
   "cell_type": "code",
   "execution_count": 27,
   "id": "928855a3-58d8-44ea-a941-2954b81a67a6",
   "metadata": {},
   "outputs": [],
   "source": [
    "train_data: list = []\n",
    "counter: int = 0\n",
    "\n",
    "for file in recursively_yield_file_path(Config.TRAIN_STORAGE, '*.json'):\n",
    "    try:\n",
    "        train_data.extend( j_loads(file) )\n",
    "        counter += 1\n",
    "        #print(f\"{counter}: {file} — {len(products_list_from_file)} items\")\n",
    "    except Exception as ex:\n",
    "        logger.error(f\"Ошибка при чтении {file}\", ex)"
   ]
  },
  {
   "cell_type": "code",
   "execution_count": 28,
   "id": "d0a9abeb-c748-4437-933c-9d202468bc9f",
   "metadata": {},
   "outputs": [],
   "source": [
    "#print(train_data[:5])"
   ]
  },
  {
   "cell_type": "code",
   "execution_count": 29,
   "id": "4950341e-2814-4b63-adcb-6225cdf66e59",
   "metadata": {},
   "outputs": [],
   "source": [
    "df = pd.DataFrame(train_data)"
   ]
  },
  {
   "cell_type": "code",
   "execution_count": 30,
   "id": "fc94f6fe-1f9b-4844-a51d-06f8c065ad1d",
   "metadata": {},
   "outputs": [
    {
     "name": "stdout",
     "output_type": "stream",
     "text": [
      "\u001b[37m89425\u001b[0m\n"
     ]
    }
   ],
   "source": [
    "print(len(df))"
   ]
  },
  {
   "cell_type": "code",
   "execution_count": 31,
   "id": "1c626ad4-9475-4f73-88ff-6d1e35628ed6",
   "metadata": {},
   "outputs": [
    {
     "data": {
      "text/html": [
       "<div>\n",
       "<style scoped>\n",
       "    .dataframe tbody tr th:only-of-type {\n",
       "        vertical-align: middle;\n",
       "    }\n",
       "\n",
       "    .dataframe tbody tr th {\n",
       "        vertical-align: top;\n",
       "    }\n",
       "\n",
       "    .dataframe thead th {\n",
       "        text-align: right;\n",
       "    }\n",
       "</style>\n",
       "<table border=\"1\" class=\"dataframe\">\n",
       "  <thead>\n",
       "    <tr style=\"text-align: right;\">\n",
       "      <th></th>\n",
       "      <th>text</th>\n",
       "      <th>label</th>\n",
       "    </tr>\n",
       "  </thead>\n",
       "  <tbody>\n",
       "    <tr>\n",
       "      <th>0</th>\n",
       "      <td>Virtual Worlds for Real Life\\nCrafted to Cruis...</td>\n",
       "      <td>1</td>\n",
       "    </tr>\n",
       "    <tr>\n",
       "      <th>1</th>\n",
       "      <td>HD Hyundai Xitesolution\\nHD Hyundai Xitesoluti...</td>\n",
       "      <td>22</td>\n",
       "    </tr>\n",
       "  </tbody>\n",
       "</table>\n",
       "</div>"
      ],
      "text/plain": [
       "                                                text  label\n",
       "0  Virtual Worlds for Real Life\\nCrafted to Cruis...      1\n",
       "1  HD Hyundai Xitesolution\\nHD Hyundai Xitesoluti...     22"
      ]
     },
     "execution_count": 31,
     "metadata": {},
     "output_type": "execute_result"
    }
   ],
   "source": [
    "df.head(2)"
   ]
  },
  {
   "cell_type": "code",
   "execution_count": 32,
   "id": "070d24db-8168-4ab1-a3e0-58af5389e85f",
   "metadata": {},
   "outputs": [
    {
     "data": {
      "text/plain": [
       "Index(['text', 'label'], dtype='object')"
      ]
     },
     "execution_count": 32,
     "metadata": {},
     "output_type": "execute_result"
    }
   ],
   "source": [
    "df.columns"
   ]
  },
  {
   "cell_type": "code",
   "execution_count": null,
   "id": "498eaf83-e39f-49ef-b0f2-ace16aee65d0",
   "metadata": {},
   "outputs": [],
   "source": [
    "#print(len(df.columns))"
   ]
  },
  {
   "cell_type": "code",
   "execution_count": null,
   "id": "207cdb45-2893-49d5-a950-baa29e2df541",
   "metadata": {},
   "outputs": [],
   "source": [
    "#df.head"
   ]
  },
  {
   "cell_type": "code",
   "execution_count": null,
   "id": "1c7ee9ea-4145-41b5-973c-b87993bd83bf",
   "metadata": {},
   "outputs": [],
   "source": [
    "#df_cleaned = df_transposed.dropna(subset=['supplier'])"
   ]
  },
  {
   "cell_type": "code",
   "execution_count": null,
   "id": "8594ef52-3a4f-46ca-aba5-b17e97073fd5",
   "metadata": {},
   "outputs": [],
   "source": [
    "#supplier_list = df_cleaned['supplier'].dropna().unique()\n",
    "#logger.info(supplier_list)"
   ]
  },
  {
   "cell_type": "code",
   "execution_count": null,
   "id": "2f457360-576d-4f46-8422-1a13becdbbcd",
   "metadata": {},
   "outputs": [],
   "source": [
    "#supplier_counts = df_clean.groupby('supplier').count().reset_index()"
   ]
  },
  {
   "cell_type": "code",
   "execution_count": null,
   "id": "5ea01d64-865d-46f4-ae8d-635463e20b13",
   "metadata": {},
   "outputs": [],
   "source": [
    "#print(supplier_counts)"
   ]
  },
  {
   "cell_type": "code",
   "execution_count": null,
   "id": "39e06870-00a9-48cc-a242-28e28cc8cc6f",
   "metadata": {},
   "outputs": [],
   "source": [
    "#df_transposed.columns"
   ]
  },
  {
   "cell_type": "markdown",
   "id": "c01e9a25-85e6-4fcf-9157-57601080cb4c",
   "metadata": {},
   "source": [
    "## В следующей функции возникает ошибка скорее всего из-за неправильного символа UNICODE в названии столбца"
   ]
  },
  {
   "cell_type": "code",
   "execution_count": null,
   "id": "c93d1dfa-55d8-4291-9145-17986df36e9a",
   "metadata": {
    "jupyter": {
     "source_hidden": true
    }
   },
   "outputs": [],
   "source": [
    "\"\"\"\n",
    "columns_to_check = ['category']\n",
    "actual_category_column_name = None\n",
    "for c_name in df_transposed.columns:\n",
    "    if 'category' in c_name: # или c_name == 'category'\n",
    "        actual_category_column_name = c_name\n",
    "        break\n",
    "\n",
    "if actual_category_column_name:\n",
    "    columns_to_check = [actual_category_column_name]\n",
    "else:\n",
    "    columns_to_check = [] # 'category' не найдена\n",
    "\n",
    "existing_columns = [col for col in columns_to_check if col in df_transposed.columns]\n",
    "\n",
    "\n",
    "# Если колонки существуют, считаем товары\n",
    "if existing_columns:\n",
    "    # Объединяем значения из существующих колонок\n",
    "    category_counts = pd.concat([df[col] for col in existing_columns])\n",
    "\n",
    "    # Считаем количество товаров в каждой категории\n",
    "    category_counts = category_counts.dropna().value_counts().reset_index()\n",
    "    category_counts.columns = ['category', 'product_count']\n",
    "else:\n",
    "    category_counts = pd.DataFrame(columns=['category', 'product_count'])\n",
    "\n",
    "print(category_counts)\n",
    "\"\"\""
   ]
  },
  {
   "cell_type": "markdown",
   "id": "b62ff2ad-c0ba-4b38-850f-d764fec25e33",
   "metadata": {},
   "source": [
    "✅ 1. Частота значений (кол-во на каждую категорию):"
   ]
  },
  {
   "cell_type": "code",
   "execution_count": null,
   "id": "204f4435-022e-47dd-9d0e-65bbb7aaa89d",
   "metadata": {},
   "outputs": [],
   "source": [
    "df['category'].value_counts()"
   ]
  },
  {
   "cell_type": "code",
   "execution_count": null,
   "id": "99969455-c8fa-4153-9b30-84c64584ce03",
   "metadata": {},
   "outputs": [],
   "source": [
    "df_transposed.to_csv(Config.TRAIN_STORAGE / 'train.csv', index=False, encoding='utf-8')"
   ]
  },
  {
   "cell_type": "code",
   "execution_count": null,
   "id": "acd7e3df-b1c8-4451-b139-98c8298a22c6",
   "metadata": {},
   "outputs": [],
   "source": []
  },
  {
   "cell_type": "code",
   "execution_count": null,
   "id": "538ace70-fc2d-4903-b71f-2dc6ac90c8f6",
   "metadata": {},
   "outputs": [],
   "source": []
  }
 ],
 "metadata": {
  "kernelspec": {
   "display_name": "Python 3 (ipykernel)",
   "language": "python",
   "name": "python3"
  },
  "language_info": {
   "codemirror_mode": {
    "name": "ipython",
    "version": 3
   },
   "file_extension": ".py",
   "mimetype": "text/x-python",
   "name": "python",
   "nbconvert_exporter": "python",
   "pygments_lexer": "ipython3",
   "version": "3.12.7"
  }
 },
 "nbformat": 4,
 "nbformat_minor": 5
}
