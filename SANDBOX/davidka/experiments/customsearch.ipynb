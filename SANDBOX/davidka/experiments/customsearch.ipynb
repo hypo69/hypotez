{
 "cells": [
  {
   "cell_type": "code",
   "execution_count": null,
   "id": "e472c245-5b17-49e1-a05e-35ab7cbdeb41",
   "metadata": {},
   "outputs": [],
   "source": [
    "import header\n",
    "from header import __root__\n",
    "from src import gs\n"
   ]
  },
  {
   "cell_type": "code",
   "execution_count": null,
   "id": "de1bfd31-2e32-470b-bc27-f9c410462179",
   "metadata": {},
   "outputs": [],
   "source": [
    "import random\n",
    "from googleapiclient.discovery import build\n",
    "\n",
    "from src.utils.file import save_text_file\n",
    "from src.utils.priner import pprint as print\n",
    "from SANDBOX.davidka.utils.utils import get_categories_from_random_urls\n"
   ]
  },
  {
   "cell_type": "code",
   "execution_count": null,
   "id": "2e5f1f5d-a451-497a-a7d9-c3fcaddf70bd",
   "metadata": {},
   "outputs": [],
   "source": [
    "class Config:\n",
    "    ENDPOINT:Path  = __root__ / 'SANDBOX' / 'davidka'\n",
    "    config:SimpleNamespace = j_loads_ns(ENDPOINT/'davidka.json') \n",
    "    STORAGE:Path = Path(config.storage)\n",
    "    API_KEY = gs.credentilas.google_custom_search.onela.api_key  # Получить здесь: https://developers.google.com/custom-search/v1/introduction\n",
    "    CSE_ID = gs.credentilas.google_custom_search.onela.cse_id  # Создать здесь: https://programmablesearchengine.google.com/about/    "
   ]
  },
  {
   "cell_type": "code",
   "execution_count": null,
   "id": "47623e7f-cfd4-4a1c-a875-d6da669ab5c5",
   "metadata": {},
   "outputs": [],
   "source": [
    "def google_search(query, api_key, cse_id, **kwargs):\n",
    "    # Создаем сервис для работы с Google Custom Search API\n",
    "    service = build(\"customsearch\", \"v1\", developerKey=api_key)\n",
    "    \n",
    "    # Выполняем запрос\n",
    "    res = service.cse().list(q=query, cx=cse_id, **kwargs).execute()\n",
    "    \n",
    "    return res\n",
    "\n"
   ]
  },
  {
   "cell_type": "code",
   "execution_count": null,
   "id": "bfbcf9fd-05c7-41a1-95b3-0b5aa575768a",
   "metadata": {},
   "outputs": [],
   "source": [
    "categories:list = []\n",
    "for source_dir in [STORAGE/'data_by_supplier_test', 'random_urls_test']\n",
    "    categories.append(get_categories_from_random_urls(source_dir))\n",
    "    \n",
    "save_text_file(categories, STORAGE/'known_categories.txt')\n",
    "categories_for_search:list = list(set(categories))\n",
    "random.shufle(categories_for_search)\n",
    "\n",
    "for category in categories_for_search:\n",
    "    # Запрос для поиска\n",
    "    query = f\"\"\"Give me 10 links to products in the category '{category}'.\"\"\"\n",
    "    \n",
    "    # Выполняем поиск\n",
    "    results = google_search(query, Config.API_KEY, Config.CSE_ID, num=5)  # num - количество результатов\n",
    "    print(results)\n",
    "    # Выводим результаты\n",
    "    if 'items' in results:\n",
    "        for item in results['items']:\n",
    "            print(f\"Заголовок: {item['title']}\")\n",
    "            print(f\"Ссылка: {item['link']}\")\n",
    "            print(f\"Описание: {item.get('snippet', 'Нет описания')}\\n\")\n",
    "    else:\n",
    "        print(\"Ничего не найдено.\")"
   ]
  }
 ],
 "metadata": {
  "kernelspec": {
   "display_name": "Python 3 (ipykernel)",
   "language": "python",
   "name": "python3"
  },
  "language_info": {
   "codemirror_mode": {
    "name": "ipython",
    "version": 3
   },
   "file_extension": ".py",
   "mimetype": "text/x-python",
   "name": "python",
   "nbconvert_exporter": "python",
   "pygments_lexer": "ipython3",
   "version": "3.12.7"
  }
 },
 "nbformat": 4,
 "nbformat_minor": 5
}
