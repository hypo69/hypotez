{
 "cells": [
  {
   "cell_type": "markdown",
   "id": "5061621b-8226-4d2a-81af-ccb65bc715d5",
   "metadata": {},
   "source": [
    "```python\n",
    "## \\file /sandbox/davidka/build_hypotez_train_data_from_files.py\n",
    "# -*- coding: utf-8 -*-\n",
    "#! .pyenv/bin/python3\n",
    "```\n",
    "Модуль для сбора датасета для обучения модели \n",
    "=====================================================\n",
    "\n",
    "\n",
    "```rst\n",
    ".. module:: sandbox.davidka.build_hypotez_train_data_from_files\n",
    "```"
   ]
  },
  {
   "cell_type": "code",
   "execution_count": 1,
   "id": "b8dd28ab-8f7c-44a6-81ff-bb56d3830016",
   "metadata": {},
   "outputs": [
    {
     "name": "stderr",
     "output_type": "stream",
     "text": [
      "2025-04-24 23:37:23,005 - WARNING - ⚠️ \u001b[91m\u001b[49mError fetching data from git: https://api.github.com/repos/hypotez/hypo/releases/latest\n",
      " response.status_code=404 \u001b[0m\n",
      "2025-04-24 23:37:28,102 - INFO - Anonymized telemetry enabled. See https://docs.browser-use.com/development/telemetry for more information.\n"
     ]
    }
   ],
   "source": [
    "import ipdb # <- трасировка и точки останова\n",
    "from pathlib import Path\n",
    "import header\n",
    "from header import __root__\n",
    "from src import gs\n",
    "from src.endpoints.hypo69.code_assistant import CodeAssistant\n",
    "from src.utils.jjson import j_loads, j_loads_ns\n",
    "from src.utils.printer import pprint as print"
   ]
  },
  {
   "cell_type": "code",
   "execution_count": 2,
   "id": "9bd6ed81-8200-4b41-a519-da59d70ecf70",
   "metadata": {},
   "outputs": [],
   "source": [
    "class Config:\n",
    "    ENDPOINT:Path = __root__/ 'SANDBOX'/ 'davidka'\n",
    "    traing_data_from_google_ai_studio: list[dict]  = j_loads(ENDPOINT / 'dialogs with gemini from Google AI studio')\n",
    "\n"
   ]
  },
  {
   "cell_type": "code",
   "execution_count": 4,
   "id": "dacd44f4-063e-45df-abb1-5b2a007c4f4c",
   "metadata": {},
   "outputs": [
    {
     "name": "stderr",
     "output_type": "stream",
     "text": [
      "IOPub data rate exceeded.\n",
      "The Jupyter server will temporarily stop sending output\n",
      "to the client in order to avoid crashing it.\n",
      "To change this limit, set the config variable\n",
      "`--ServerApp.iopub_data_rate_limit`.\n",
      "\n",
      "Current values:\n",
      "ServerApp.iopub_data_rate_limit=1000000.0 (bytes/sec)\n",
      "ServerApp.rate_limit_window=3.0 (secs)\n",
      "\n"
     ]
    }
   ],
   "source": [
    "for dialogs in Config.traing_data_from_google_ai_studio:\n",
    "    print(dialogs)"
   ]
  },
  {
   "cell_type": "code",
   "execution_count": null,
   "id": "4a5ea8ec-6f4a-4f89-9cee-edbf8d366b2a",
   "metadata": {},
   "outputs": [],
   "source": []
  }
 ],
 "metadata": {
  "kernelspec": {
   "display_name": "Python 3 (ipykernel)",
   "language": "python",
   "name": "python3"
  },
  "language_info": {
   "codemirror_mode": {
    "name": "ipython",
    "version": 3
   },
   "file_extension": ".py",
   "mimetype": "text/x-python",
   "name": "python",
   "nbconvert_exporter": "python",
   "pygments_lexer": "ipython3",
   "version": "3.12.7"
  }
 },
 "nbformat": 4,
 "nbformat_minor": 5
}
