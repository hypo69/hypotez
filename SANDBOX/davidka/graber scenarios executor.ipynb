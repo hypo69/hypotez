{
 "cells": [
  {
   "cell_type": "code",
   "execution_count": 1,
   "id": "36375b7f-c67b-4404-8816-a51200464326",
   "metadata": {
    "jupyter": {
     "source_hidden": true
    }
   },
   "outputs": [
    {
     "name": "stdout",
     "output_type": "stream",
     "text": [
      "\u001b[37m🔑 Found password in password.txt (DEBUG MODE)\u001b[0m\n",
      "\u001b[37m✅ Successfully opened KeePass database: C:\\Users\\user\\Documents\\repos\\hypotez\\secrets\\credentials.kdbx\u001b[0m\n",
      "\u001b[37mFailed to load GAPI credentials\u001b[0m\n"
     ]
    }
   ],
   "source": [
    "import header\n",
    "from header import __root__\n",
    "\n",
    "# Internal modules\n",
    "from src import gs"
   ]
  },
  {
   "cell_type": "code",
   "execution_count": 2,
   "id": "3ac0df16-5c4d-4b0a-80ca-e698c984d552",
   "metadata": {
    "jupyter": {
     "source_hidden": true
    }
   },
   "outputs": [
    {
     "name": "stderr",
     "output_type": "stream",
     "text": [
      "2025-05-23 23:57:25,134 - INFO - Anonymized telemetry enabled. See https://docs.browser-use.com/development/telemetry for more information.\n"
     ]
    }
   ],
   "source": [
    "import importlib\n",
    "import os\n",
    "import asyncio\n",
    "import time\n",
    "from pathlib import Path\n",
    "from types import SimpleNamespace\n",
    "from typing import Optional, List, Any\n",
    "from dataclasses import dataclass, field\n",
    "\n",
    "\n",
    "from src.suppliers.suppliers_list import *\n",
    "from src.suppliers.get_graber_by_supplier  import get_graber_by_supplier_prefix, get_graber_by_supplier_url\n",
    "from src.suppliers.graber import Graber\n",
    "from src.webdriver.driver import Driver\n",
    "from src.webdriver.firefox import Firefox\n",
    "from src.webdriver.chrome import Chrome\n",
    "from src.llm.gemini import GoogleGenerativeAi\n",
    "from src.llm.openai.model import OpenAIModel\n",
    "from src.endpoints.prestashop.product import PrestaProduct\n",
    "from src.endpoints.prestashop.language import PrestaLanguage\n",
    "from src.endpoints.prestashop.product_fields import ProductFields\n",
    "from src.endpoints.advertisement.facebook.scenarios.post_message import (\n",
    "    post_message,\n",
    ")\n",
    "from src.utils.file import read_text_file, save_text_file, get_filenames_from_directory\n",
    "\n",
    "from src.utils.jjson import j_loads, j_loads_ns, j_dumps\n",
    "from src.utils.image import get_image_bytes, get_raw_image_data\n",
    "from src.logger.logger import logger"
   ]
  },
  {
   "cell_type": "code",
   "execution_count": 3,
   "id": "faa89f08-0f37-469e-91d9-7e89b31cb71b",
   "metadata": {},
   "outputs": [],
   "source": [
    "# --- file config.py\n",
    "class Config:\n",
    "\n",
    "\n",
    "    ENDPOINT: Path = __root__ /'src' / 'endpoints' / 'emil'\n",
    "    SUPPLIERS_ENDPOINT: Path = __root__ / 'src' / 'suppliers' / 'suppliers_list'\n",
    "    config:SimpleNamespace = j_loads_ns(ENDPOINT / 'emil.json')\n",
    "    GEMINI_API_KEY:str = gs.credentials.gemini.onela.api_key\n",
    "    PRESTA_API_KEY:str = gs.credentials.prestashop.store_davidka_net.api_key\n",
    "    PRESTA_DOMAIN:str = gs.credentials.prestashop.store_davidka_net.api_domain\n",
    "    gemini_model_name:str = config.gemini_model_name\n",
    "    system_instruction:str = ' ' # <- Это пробел!\n",
    "    webdriver_window_mode:str = 'headless'\n",
    "# --- end file config.pt"
   ]
  },
  {
   "cell_type": "code",
   "execution_count": 4,
   "id": "86417d90-3bde-49d6-ad71-30af0cfb7b64",
   "metadata": {},
   "outputs": [],
   "source": [
    "class ScenarioPipeline:\n",
    "    \"\"\"Dataclass for designing and promoting images through various platforms.\"\"\"\n",
    "\n",
    "    gemini: Optional[GoogleGenerativeAi] = None\n",
    "    openai: Optional[OpenAIModel] = None\n",
    "    product: PrestaProduct = None\n",
    "    driver: Driver = None\n",
    "\n",
    "    def __init__(self,\n",
    "            presta_api_key:Optional[str] = '',\n",
    "            presta_api_domain:Optional[str] = '',\n",
    "            gemini_model_name:Optional[str] = '',\n",
    "            openai_model_name:Optional[str] = '',\n",
    "            gemini_api_key:Optional[str] = '',\n",
    "            openai_api_key:Optional[str] = '',\n",
    "            gemini: Optional[GoogleGenerativeAi] = None, \n",
    "            openai: Optional[OpenAIModel] = None,\n",
    "            system_instruction:str = '',\n",
    "            driver:Driver = None, \n",
    "            webdriver_window_mode:str = ''\n",
    "            ):\n",
    "        \"\"\"\n",
    "        Инициализация \n",
    "            Args:\n",
    "                presta_api_key:Optional[str] = '',\n",
    "                presta_api_domain:Optional[str] = '',\n",
    "                gemini_model_name:Optional[str] = '',\n",
    "                openai_model_name:Optional[str] = '',\n",
    "                gemini_api_key:Optional[str] = '',\n",
    "                openai_api_key:Optional[str] = '',\n",
    "                gemini: Optional[GoogleGenerativeAi] = None, \n",
    "                openai: Optional[OpenAIModel] = None,\n",
    "        \"\"\"\n",
    "        ...\n",
    "        if driver:\n",
    "            self.driver = driver\n",
    "        else:\n",
    "            self.driver = Driver(Firefox, \n",
    "                                 window_mode=webdriver_window_mode if webdriver_window_mode else Config.webdriver_window_mode,\n",
    "                                )\n",
    "\n",
    "        if gemini:\n",
    "            self.gemini = gemini\n",
    "        else:\n",
    "            gemini_api_key:str = gemini_api_key if gemini_api_key else Config.GEMINI_API_KEY\n",
    "            gemini_model_name:str = gemini_model_name if gemini_model_name else Config.gemini_model_name\n",
    "            system_instruction:str = system_instruction if system_instruction else Config.system_instruction\n",
    "            if not self._init_gemini(gemini_api_key, gemini_model_name, system_instruction):\n",
    "                logger.debug('Модель GEMINI не иницаилизирована')\n",
    "\n",
    "        presta_api_key:str = presta_api_key if presta_api_key else Config.PRESTA_API_KEY\n",
    "        presta_api_domain:str = presta_api_domain if presta_api_domain else Config.PRESTA_DOMAIN\n",
    "        if not presta_api_key or not presta_api_domain:\n",
    "            logger.critical(f'Проверь \\nAPI {presta_api_key}\\nDomain {presta_api_domain=}')\n",
    "            return False\n",
    "\n",
    "        self.product = PrestaProduct(presta_api_key, presta_api_domain )\n",
    "\n",
    "    def _init_gemini(self, api_key: str, model_name: str, system_instruction: str) -> bool:\n",
    "        \"\"\"\"\"\"\n",
    "        try:\n",
    "            generation_config = dict({'response_mime_type':'application/json'})\n",
    "            self.gemini = GoogleGenerativeAi(api_key, model_name, generation_config, system_instruction)\n",
    "            return True\n",
    "        except Exception as ex:\n",
    "            logger.error(f'Ошибка иницализации модели!', ex, False)\n",
    "            return False\n",
    "\n",
    "\n",
    "    async def process_supplier(self, supplier_prefix:str) -> bool:\n",
    "        \"\"\"\"\"\"\n",
    "        ...\n",
    "        try:\n",
    "            supplier_path:Path = Config.SUPPLIERS_ENDPOINT / supplier_prefix \n",
    "            graber: Graber = get_graber_by_supplier_prefix(self.driver, supplier_prefix)\n",
    "            scenarios_list: list[dict] = j_loads(Config.SUPPLIERS_ENDPOINT / supplier_prefix / 'scenarios')\n",
    "            locators_path:Path = supplier_path / 'locators' \n",
    "            locator_product:SimpleNamespace = j_loads_ns(locators_path / 'product.json')\n",
    "            locator_category:SimpleNamespace = j_loads_ns(locators_path / 'category.json')\n",
    "            categories_crawler:Any = None\n",
    "            categories_crawler_module_path:str = f\"src.suppliers.suppliers_list.{supplier_prefix}.categories_crawler\"\n",
    "        except Exception as ex:\n",
    "            logger.error(f'Непредвиденная ошибка', ex)\n",
    "            return False\n",
    "\n",
    "        try:\n",
    "            categories_crawler = importlib.import_module(categories_crawler_module_path)\n",
    "        except Exception as ex:\n",
    "            logger.error(f\"Failed to import module `categories_crawler` '{supplier_prefix}'\", ex)\n",
    "            return False\n",
    "        \n",
    "        for scenario in scenarios_list:\n",
    "            self.driver.get_url(scenario.url)\n",
    "\n",
    "            products_urls_in_category:list = categories_crawler.get_list_products_in_category(self.driver, locator_category)\n",
    "            for product_url in products_urls_in_category:\n",
    "                self.driver.get_url(product_url)\n",
    "                product_fields:ProductFields = await graber.grab_page_async()\n",
    "                ...\n",
    "\n",
    "            \n",
    "    async def process_suppliers_list(self, suppliers_prefixes: str|list) -> bool:\n",
    "        \"\"\"\n",
    "        Process suppliers based on the provided prefix.\n",
    "        Args:\n",
    "            suppliers_prefixes (Optional[str | List[str, str]], optional): Prefix for suppliers. Defaults to ''.\n",
    "        Returns:\n",
    "            bool: True if processing is successful, False otherwise.\n",
    "        Raises:\n",
    "            Exception: If any error occurs during supplier processing.\n",
    "        \"\"\"\n",
    "        \n",
    "        for supplier_prefix in suppliers_prefixes:\n",
    "            try:\n",
    "                await self.process_supplier(supplier_prefix)\n",
    "            except Exception as ex:\n",
    "                logger.error(f'Error while processing suppliers: {ex}')\n",
    "                continue"
   ]
  },
  {
   "cell_type": "code",
   "execution_count": 5,
   "id": "5b40643b-402a-4981-ba35-187e2d7e9f06",
   "metadata": {},
   "outputs": [
    {
     "name": "stderr",
     "output_type": "stream",
     "text": [
      "2025-05-23 23:57:25,342 - INFO - ℹ️ \u001b[32m\u001b[49mИнициализация Firefox WebDriver \u001b[0m\n",
      "2025-05-23 23:57:25,342 - DEBUG - 🐛 \u001b[36m\u001b[49mТекущий __root__: C:\\Users\\user\\Documents\\repos\\hypotez \u001b[0m\n",
      "NoneType: None\n",
      "2025-05-23 23:57:25,350 - DEBUG - 🐛 \u001b[36m\u001b[49mКонфигурация загружена. enable_geckodriver_log: True \u001b[0m\n",
      "NoneType: None\n",
      "2025-05-23 23:57:25,351 - INFO - ℹ️ \u001b[32m\u001b[49mПопытка настроить логирование geckodriver... \u001b[0m\n",
      "2025-05-23 23:57:25,353 - DEBUG - 🐛 \u001b[36m\u001b[49mПредполагаемый путь к лог-файлу geckodriver: C:\\Users\\user\\Documents\\repos\\hypotez\\geckodriver.log \u001b[0m\n",
      "NoneType: None\n",
      "2025-05-23 23:57:25,354 - INFO - ℹ️ \u001b[32m\u001b[49mЛогирование geckodriver настроено. Путь к лог-файлу: C:\\Users\\user\\Documents\\repos\\hypotez\\geckodriver.log \u001b[0m\n",
      "2025-05-23 23:57:30,130 - INFO - ℹ️ \u001b[33m\u001b[49mБраузер Firefox успешно запущен. Режим окна: headless. \u001b[0m\n"
     ]
    }
   ],
   "source": [
    "driver:Driver = None\n",
    "\n",
    "try:\n",
    "    driver = Driver(Firefox, window_mode = 'headless')\n",
    "except Exception as ex:\n",
    "    logger.critical(f'Ошибка инициализации шебдрайвера: ', ех, False)  "
   ]
  },
  {
   "cell_type": "code",
   "execution_count": 6,
   "id": "e5ec029d-d9db-40ac-9f40-9f4444979e28",
   "metadata": {},
   "outputs": [
    {
     "name": "stderr",
     "output_type": "stream",
     "text": [
      "2025-05-23 23:57:30,141 - INFO - ℹ️ \u001b[32m\u001b[49mМодель models/gemini-2.5-flash-preview-04-17 инициализирована \u001b[0m\n",
      "2025-05-23 23:57:30,753 - ERROR - ❌ \u001b[31m\u001b[49mError while processing suppliers: 'dict' object has no attribute 'url' \u001b[0m\n",
      "Traceback (most recent call last):\n",
      "  File \"C:\\Users\\user\\AppData\\Local\\Temp\\ipykernel_13752\\1953721086.py\", line 115, in process_suppliers_list\n",
      "    await self.process_supplier(supplier_prefix)\n",
      "  File \"C:\\Users\\user\\AppData\\Local\\Temp\\ipykernel_13752\\1953721086.py\", line 93, in process_supplier\n",
      "    self.driver.get_url(scenario.url)\n",
      "                        ^^^^^^^^^^^^\n",
      "AttributeError: 'dict' object has no attribute 'url'\n"
     ]
    }
   ],
   "source": [
    "executor: ScenarioPipeline = ScenarioPipeline(driver = driver)\n",
    "suppliers_prefixes_list:list = ['hb']  \n",
    "        \n",
    "try:\n",
    "    await executor.process_suppliers_list(suppliers_prefixes_list)\n",
    "except Exception as ex:\n",
    "    logger.error(f'Wxcepation: ', ex, False)\n",
    "finally:\n",
    "    driver.quit()\n",
    "    "
   ]
  },
  {
   "cell_type": "code",
   "execution_count": null,
   "id": "3da26eb3-5601-476e-a2d1-3998a4184946",
   "metadata": {},
   "outputs": [],
   "source": []
  }
 ],
 "metadata": {
  "kernelspec": {
   "display_name": "Python 3 (ipykernel)",
   "language": "python",
   "name": "python3"
  },
  "language_info": {
   "codemirror_mode": {
    "name": "ipython",
    "version": 3
   },
   "file_extension": ".py",
   "mimetype": "text/x-python",
   "name": "python",
   "nbconvert_exporter": "python",
   "pygments_lexer": "ipython3",
   "version": "3.12.7"
  }
 },
 "nbformat": 4,
 "nbformat_minor": 5
}
